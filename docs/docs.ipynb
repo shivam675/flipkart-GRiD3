{
 "cells": [
  {
   "cell_type": "markdown",
   "metadata": {},
   "source": [
    "<img src=\"images/logos/TClogo.png\">"
   ]
  },
  {
   "cell_type": "markdown",
   "metadata": {},
   "source": [
    "# PRESENTS"
   ]
  },
  {
   "cell_type": "markdown",
   "metadata": {},
   "source": [
    "# ROS Developers Live Class n64"
   ]
  },
  {
   "cell_type": "markdown",
   "metadata": {},
   "source": [
    "## Multiple Robots Navigation"
   ]
  },
  {
   "cell_type": "markdown",
   "metadata": {},
   "source": [
    "<img src=\"images/hqdefault.jpg\">"
   ]
  },
  {
   "cell_type": "markdown",
   "metadata": {},
   "source": [
    "In this class, you will learn **how to launch multiple robots and make them navigate independently by using ROS**\n",
    "\n",
    "## Why this class?\n",
    "\n",
    "** Fleets of robots is a trending topic in robotics **\n",
    "\n",
    "Managing fleets of robots is becoming more and more important in the robotics industry. You need to master how you can simulate multiple robots in a single simulation.\n",
    "\n",
    "** The most basic skill of a robot is navigation **\n",
    "\n",
    "In other Live Classes we have seen how to make a single robot navigate. In this class we teach how to make many robots navigate using ROS. This is the **basic skill of a fleet of robots**"
   ]
  },
  {
   "cell_type": "markdown",
   "metadata": {},
   "source": [
    "<img src=\"images/logos/ros_developer.png\" width=\"300\" height=\"300\">\n"
   ]
  },
  {
   "cell_type": "markdown",
   "metadata": {},
   "source": [
    "#### If you want to become a **Robotics Developer** you need to master how to test several robots moving independently in simulation.\n",
    "\n",
    "(To know more about becoming a robotics developer, read this guide about <a href=\"http://www.theconstructsim.com/become-robotics-developer/\">How To Become a Robotics Developer</a>)"
   ]
  },
  {
   "cell_type": "markdown",
   "metadata": {},
   "source": [
    "This rosject has been created by **ROS Developers** **Christian Chavez**, **Alberto Ezquerro** and **Ricardo Tellez** from **The Construct**. You can use this rosject freely as long as you keep this notice."
   ]
  },
  {
   "cell_type": "markdown",
   "metadata": {},
   "source": [
    "** REQUIREMENTS ** :\n",
    "* Basic knowledge of <b>ROS concepts such as topics, publish and subscribe, ROS Service, ROS Actions</b>. If you don't understand those subjects, you can learn about it <a href=\"https://www.robotigniteacademy.com/en/course/ros-in-5-days/details/\">in this course</a>\n",
    "\n",
    "\n",
    "<img src=\"images/logos/ros5days.png\" width=\"200\" height=\"200\">\n",
    "\n",
    "\n",
    "* Basic knowledge of **Ros Navigation stack, like what is the *map_server*, the *amcl* package and the *move_base* **. If you don't understand those subjects, you can learn about it <a href=\"https://www.robotigniteacademy.com/en/course/ros-navigation-in-5-days/details/\">in this course</a>\n",
    "\n",
    "\n",
    "<img src=\"images/logos/ros_navigation.png\" width=\"200\" height=\"200\">\n",
    "\n",
    "* Love for Robotics \n",
    "* ...that's it!!"
   ]
  },
  {
   "cell_type": "markdown",
   "metadata": {},
   "source": [
    "### In this class, you'll learn: \n",
    "\n",
    " - How to launch multiple robots in gazebo to the navigation.\n",
    "\n",
    " - How to launch the *map_server*.\n",
    " \n",
    " - How to launch the *amcl* for each robot.\n",
    " \n",
    " - How to launch the *move_base* (Path planning and obstacles avoidance).\n",
    " \n",
    " \n"
   ]
  },
  {
   "cell_type": "markdown",
   "metadata": {},
   "source": [
    "### How to use this ROSject\n",
    "\n",
    "A <a href=\"http://rosjects.com\">**ROSject**</a> is a **ROS project** packaged in such a way that all the material it contains (**ROS code, Gazebo simulations and Notebooks**) can be shared with any body **using only a web link**. That is what we did with all the attendants to the Live Class, we shared this ROSject with them (so they can have access to all the ROS material they contain).\n",
    "\n",
    "**Check <a heref=\"https://www.youtube.com/watch?v=cR-Ow5K7oSo\">this webinar</a> to learn more about ROSjects and how to create your own ROSjects**.\n",
    "\n",
    "You will need to have a free account at the <a href=\"http://rosds.online\">ROS Development Studio</a> (ROSDS). Get the account and then follow the indications below."
   ]
  },
  {
   "cell_type": "markdown",
   "metadata": {},
   "source": [
    "## Robot simulation for today's Live Class"
   ]
  },
  {
   "cell_type": "markdown",
   "metadata": {},
   "source": [
    "Today you're going to use three turtlebots in the tiago small office environment "
   ]
  },
  {
   "cell_type": "markdown",
   "metadata": {},
   "source": [
    "<img src=\"images/turtlebots.png\">"
   ]
  },
  {
   "cell_type": "markdown",
   "metadata": {},
   "source": [
    "### Single robot Turtlebot provided in this rosject"
   ]
  },
  {
   "cell_type": "markdown",
   "metadata": {},
   "source": [
    "We start from the simulation of a Turtlebot robot. The simulation is already provided in the *simulation_ws*.\n",
    "\n",
    "Use the IDE to check the code (go to top menu and select **Tools->IDE**. Then navigate on the IDE to the *simulations_ws*. There you should see two ROS packages containing the simulation:\n",
    "\n",
    "* kobuki_description\n",
    "* turtlebot_description\n",
    "\n",
    "**We are going to use those two packages to launch three turtlebot robots**, each one of them with thier proper topics and navigation system."
   ]
  },
  {
   "cell_type": "markdown",
   "metadata": {},
   "source": [
    "### Preparation to launch multiple robots"
   ]
  },
  {
   "cell_type": "markdown",
   "metadata": {},
   "source": [
    "First of all you'll open a web shell to create your package.\n",
    "\n",
    "Go to the *Tools* menu at the upper left corner and select shell"
   ]
  },
  {
   "cell_type": "markdown",
   "metadata": {},
   "source": [
    "<img src=\"images/Tools_menu.png\">"
   ]
  },
  {
   "cell_type": "markdown",
   "metadata": {},
   "source": [
    "You'll have something like this"
   ]
  },
  {
   "cell_type": "markdown",
   "metadata": {},
   "source": [
    "<img src=\"images/Shell.png\">"
   ]
  },
  {
   "cell_type": "markdown",
   "metadata": {},
   "source": [
    "into the shell go to the *src* folder inside the *simulation_ws* folder . To do that run into the shell the following\n"
   ]
  },
  {
   "cell_type": "code",
   "execution_count": null,
   "metadata": {
    "collapsed": true
   },
   "outputs": [],
   "source": [
    "$cd simulation_ws/src"
   ]
  },
  {
   "cell_type": "markdown",
   "metadata": {},
   "source": [
    "you should have something like the next image"
   ]
  },
  {
   "cell_type": "markdown",
   "metadata": {},
   "source": [
    "<img src=\"images/simulation_ws.png\">"
   ]
  },
  {
   "cell_type": "markdown",
   "metadata": {},
   "source": [
    "Next, you have to create a new package. To do that, put the following into the shell"
   ]
  },
  {
   "cell_type": "code",
   "execution_count": null,
   "metadata": {
    "collapsed": true
   },
   "outputs": [],
   "source": [
    "$catkin_create_pkg multiple_turtlebots_sim rospy "
   ]
  },
  {
   "cell_type": "markdown",
   "metadata": {},
   "source": [
    "You should have something similar to the image below"
   ]
  },
  {
   "cell_type": "markdown",
   "metadata": {},
   "source": [
    "<img src=\"images/catkin_create_sim.png\">"
   ]
  },
  {
   "cell_type": "markdown",
   "metadata": {},
   "source": [
    "Then let's open the IDE tool. To do this, go to the *Tools* menu again , but now click on IDE, you shoul open a window like the image below."
   ]
  },
  {
   "cell_type": "markdown",
   "metadata": {},
   "source": [
    "<img src=\"images/IDE.png\">"
   ]
  },
  {
   "cell_type": "markdown",
   "metadata": {},
   "source": [
    "Navigate into the IDE and go to the *multiple_turtlebots_sim* folder that is inside the simulation_ws/src , and click on the folder with the right button and make a new folder, call it *launch*"
   ]
  },
  {
   "cell_type": "markdown",
   "metadata": {},
   "source": [
    "<img src=\"images/new_folder.png\">"
   ]
  },
  {
   "cell_type": "markdown",
   "metadata": {},
   "source": [
    "inside the *launch* folder create a new file and call it *one_robot.launch* and copy the following into the file.\n"
   ]
  },
  {
   "cell_type": "code",
   "execution_count": null,
   "metadata": {
    "collapsed": true
   },
   "outputs": [],
   "source": [
    "<launch>\n",
    "    <arg name=\"robot_name\"/>\n",
    "    <arg name=\"init_pose\"/>\n",
    "\n",
    "    <node name=\"spawn_minibot_model\" pkg=\"gazebo_ros\" type=\"spawn_model\"\n",
    "     args=\"$(arg init_pose) -urdf -param /robot_description -model $(arg robot_name)\"\n",
    "     respawn=\"false\" output=\"screen\" />\n",
    "\n",
    "    <node pkg=\"robot_state_publisher\" type=\"state_publisher\"\n",
    "          name=\"robot_state_publisher\" output=\"screen\"/>\n",
    "</launch>"
   ]
  },
  {
   "cell_type": "markdown",
   "metadata": {},
   "source": [
    "Then create other file and call it *robots.launch* and inside copy the following code"
   ]
  },
  {
   "cell_type": "code",
   "execution_count": null,
   "metadata": {
    "collapsed": true
   },
   "outputs": [],
   "source": [
    "<launch>\n",
    "  <!-- No namespace here as we will share this description.\n",
    "       Access with slash at the beginning -->\n",
    "  <param name=\"robot_description\"\n",
    "    command=\"$(find xacro)/xacro.py $(find turtlebot_description)/robots/kobuki_hexagons_asus_xtion_pro.urdf.xacro\" />\n",
    "\n",
    "  <!-- BEGIN ROBOT 1-->\n",
    "  <group ns=\"robot1\">\n",
    "    <param name=\"tf_prefix\" value=\"robot1_tf\" />\n",
    "    <include file=\"$(find multiple_turtlebots_sim)/launch/one_robot.launch\" >\n",
    "      <arg name=\"init_pose\" value=\"-x 3 -y 1 -z 0\" />\n",
    "      <arg name=\"robot_name\"  value=\"Robot1\" />\n",
    "    </include>\n",
    "  </group>\n",
    "\n",
    "  <!-- BEGIN ROBOT 2-->\n",
    "  <group ns=\"robot2\">\n",
    "    <param name=\"tf_prefix\" value=\"robot2_tf\" />\n",
    "    <include file=\"$(find multiple_turtlebots_sim)/launch/one_robot.launch\" >\n",
    "      <arg name=\"init_pose\" value=\"-x -4 -y 1 -z 0\" />\n",
    "      <arg name=\"robot_name\"  value=\"Robot2\" />\n",
    "    </include>\n",
    "  </group>\n",
    "\n",
    "  <!-- BEGIN ROBOT 3-->\n",
    "  <group ns=\"robot3\">\n",
    "    <param name=\"tf_prefix\" value=\"robot3_tf\" />\n",
    "    <include file=\"$(find multiple_turtlebots_sim)/launch/one_robot.launch\" >\n",
    "      <arg name=\"init_pose\" value=\"-x 1 -y -6 -z 0\" />\n",
    "      <arg name=\"robot_name\"  value=\"Robot3\" />\n",
    "    </include>\n",
    "  </group>\n",
    "\n",
    "</launch>"
   ]
  },
  {
   "cell_type": "markdown",
   "metadata": {},
   "source": [
    "In this file you give each robot a *ns* or *namespace* to separated all the properties of each robot like topics or the tf. After that create a new file a call it *main.launch* and copy the followimg inside it."
   ]
  },
  {
   "cell_type": "code",
   "execution_count": null,
   "metadata": {
    "collapsed": true
   },
   "outputs": [],
   "source": [
    "<launch>\n",
    "  <param name=\"/use_sim_time\" value=\"true\" />\n",
    "\n",
    "  <!-- start world -->\n",
    "  <node name=\"gazebo\" pkg=\"gazebo_ros\" type=\"gazebo\"\n",
    "   args=\"$(find tiago_gazebo)/worlds/small_office.world\" respawn=\"false\" output=\"screen\" />\n",
    "\n",
    "  <!-- include our robots -->\n",
    "  <include file=\"$(find multiple_turtlebots_sim)/launch/robots.launch\"/>\n",
    "</launch>"
   ]
  },
  {
   "cell_type": "markdown",
   "metadata": {},
   "source": [
    "In this file you just launch the world and the launch you did before to launch your robots. Then you have to launch the *main.launch* like any simulation. go to the top menu to the *Simulation* section "
   ]
  },
  {
   "cell_type": "markdown",
   "metadata": {},
   "source": [
    "<img src=\"images/simulations_menu.png\">"
   ]
  },
  {
   "cell_type": "markdown",
   "metadata": {},
   "source": [
    "Then click into the *Choose launch file...* box and select the main.launch"
   ]
  },
  {
   "cell_type": "markdown",
   "metadata": {},
   "source": [
    "<img src=\"images/main_launch.png\">"
   ]
  },
  {
   "cell_type": "markdown",
   "metadata": {},
   "source": [
    "you should have something similar to the following image."
   ]
  },
  {
   "cell_type": "markdown",
   "metadata": {},
   "source": [
    "<img src=\"images/turtlebots.png\">"
   ]
  },
  {
   "cell_type": "markdown",
   "metadata": {},
   "source": [
    "### How to launch the map_server"
   ]
  },
  {
   "cell_type": "markdown",
   "metadata": {},
   "source": [
    "We have created a map of the environment when we were preparing this class. You don't need to create it but just launch the **map_server** and use it."
   ]
  },
  {
   "cell_type": "markdown",
   "metadata": {},
   "source": [
    "Now you have the simulation running let's go to the *catkin_ws* section and create a new package as *multiple_turtlebots_nav* with the shell ."
   ]
  },
  {
   "cell_type": "markdown",
   "metadata": {},
   "source": [
    "<img src=\"images/catkin_ws.png\">"
   ]
  },
  {
   "cell_type": "markdown",
   "metadata": {},
   "source": [
    "<img src=\"images/catkin_create.png\">"
   ]
  },
  {
   "cell_type": "markdown",
   "metadata": {},
   "source": [
    "create a folder as you see before and call it *launch* again."
   ]
  },
  {
   "cell_type": "markdown",
   "metadata": {},
   "source": [
    "Now let's prepare all the launch files that are needed"
   ]
  },
  {
   "cell_type": "markdown",
   "metadata": {},
   "source": [
    "First create a new file inside launch folder of your package and call it *navigation.launch* and add the following into the file."
   ]
  },
  {
   "cell_type": "code",
   "execution_count": null,
   "metadata": {
    "collapsed": true
   },
   "outputs": [],
   "source": [
    "<launch>\n",
    "  <param name=\"/use_sim_time\" value=\"true\"/>\n",
    "\n",
    "  <!-- Run the map server -->\n",
    "  <node name=\"map_server\" pkg=\"map_server\" type=\"map_server\" args=\"$(find my_mapping_launcher)/config/my_map.yaml\" >\n",
    "    <param name=\"frame_id\" value=\"/map\" />\n",
    "  </node>\n",
    "\n",
    "  <node type=\"rviz\" name=\"rviz\" pkg=\"rviz\"  />\n",
    "\n",
    "</launch>"
   ]
  },
  {
   "cell_type": "markdown",
   "metadata": {},
   "source": [
    "To see what the launch do execute the next into the shell."
   ]
  },
  {
   "cell_type": "code",
   "execution_count": null,
   "metadata": {
    "collapsed": true
   },
   "outputs": [],
   "source": [
    "$ roslaunch multiple_turtlebots_nav navigation.launch"
   ]
  },
  {
   "cell_type": "markdown",
   "metadata": {},
   "source": [
    "Now if you go to the *Tools* menu and open *Graphical Tools* you should have something like this"
   ]
  },
  {
   "cell_type": "markdown",
   "metadata": {},
   "source": [
    "<img src=\"images/rviz_incomplete.png\">"
   ]
  },
  {
   "cell_type": "markdown",
   "metadata": {},
   "source": [
    "Make a double click on the top of the rviz's window to see it complete like the next image "
   ]
  },
  {
   "cell_type": "markdown",
   "metadata": {},
   "source": [
    "<img src=\"images/rviz_complete.png\">"
   ]
  },
  {
   "cell_type": "markdown",
   "metadata": {},
   "source": [
    "then go to the *Add* button at the bottom left section and add a map topic"
   ]
  },
  {
   "cell_type": "markdown",
   "metadata": {},
   "source": [
    "<img src=\"images/map_button.png\">"
   ]
  },
  {
   "cell_type": "markdown",
   "metadata": {},
   "source": [
    "go to *map* and in *topic* section select */map* like the next image."
   ]
  },
  {
   "cell_type": "markdown",
   "metadata": {},
   "source": [
    "<img src=\"images/map_topic.png\">"
   ]
  },
  {
   "cell_type": "markdown",
   "metadata": {},
   "source": [
    "you should see the map like the following image."
   ]
  },
  {
   "cell_type": "markdown",
   "metadata": {},
   "source": [
    "<img src=\"images/map.png\">"
   ]
  },
  {
   "cell_type": "markdown",
   "metadata": {},
   "source": [
    "### Launch the amcl for each robot"
   ]
  },
  {
   "cell_type": "markdown",
   "metadata": {},
   "source": [
    "Now you have already launched the map_server you have to launch the acml for each robot spawned in the simulation."
   ]
  },
  {
   "cell_type": "markdown",
   "metadata": {},
   "source": [
    "You have to create a launch file and call it **amcl_robot1.launch**, and copy the following code into it."
   ]
  },
  {
   "cell_type": "code",
   "execution_count": null,
   "metadata": {},
   "outputs": [],
   "source": [
    "<launch>\n",
    "\n",
    "  <arg name=\"use_map_topic\"   default=\"false\"/>\n",
    "  <arg name=\"scan_topic\"      default=\"/robot1/kobuki/laser/scan\"/>\n",
    "  <arg name=\"initial_pose_x\"  default=\"3.0\"/>\n",
    "  <arg name=\"initial_pose_y\"  default=\"1.0\"/>\n",
    "  <arg name=\"initial_pose_a\"  default=\"0.0\"/>\n",
    "  <arg name=\"odom_frame_id\"   default=\"/robot1_tf/odom\"/>\n",
    "  <arg name=\"base_frame_id\"   default=\"/robot1_tf/base_footprint\"/>\n",
    "  <arg name=\"global_frame_id\" default=\"/map\"/>\n",
    "\n",
    "  <node pkg=\"amcl\" type=\"amcl\" name=\"robot1_amcl\">\n",
    "    <param name=\"use_map_topic\"             value=\"$(arg use_map_topic)\"/>\n",
    "    <!-- Publish scans from best pose at a max of 10 Hz -->\n",
    "    <param name=\"odom_model_type\"           value=\"diff\"/>\n",
    "    <param name=\"odom_alpha5\"               value=\"0.1\"/>\n",
    "    <param name=\"gui_publish_rate\"          value=\"10.0\"/>\n",
    "    <param name=\"laser_max_beams\"             value=\"60\"/>\n",
    "    <param name=\"laser_max_range\"           value=\"12.0\"/>\n",
    "    <param name=\"min_particles\"             value=\"500\"/>\n",
    "    <param name=\"max_particles\"             value=\"2000\"/>\n",
    "    <param name=\"kld_err\"                   value=\"0.05\"/>\n",
    "    <param name=\"kld_z\"                     value=\"0.99\"/>\n",
    "    <param name=\"odom_alpha1\"               value=\"0.2\"/>\n",
    "    <param name=\"odom_alpha2\"               value=\"0.2\"/>\n",
    "    <!-- translation std dev, m -->\n",
    "    <param name=\"odom_alpha3\"               value=\"0.2\"/>\n",
    "    <param name=\"odom_alpha4\"               value=\"0.2\"/>\n",
    "    <param name=\"laser_z_hit\"               value=\"0.5\"/>\n",
    "    <param name=\"laser_z_short\"             value=\"0.05\"/>\n",
    "    <param name=\"laser_z_max\"               value=\"0.05\"/>\n",
    "    <param name=\"laser_z_rand\"              value=\"0.5\"/>\n",
    "    <param name=\"laser_sigma_hit\"           value=\"0.2\"/>\n",
    "    <param name=\"laser_lambda_short\"        value=\"0.1\"/>\n",
    "    <param name=\"laser_model_type\"          value=\"likelihood_field\"/>\n",
    "    <!-- <param name=\"laser_model_type\" value=\"beam\"/> -->\n",
    "    <param name=\"laser_likelihood_max_dist\" value=\"2.0\"/>\n",
    "    <param name=\"update_min_d\"              value=\"0.25\"/>\n",
    "    <param name=\"update_min_a\"              value=\"0.2\"/>\n",
    "    <param name=\"odom_frame_id\"             value=\"$(arg odom_frame_id)\"/>\n",
    "    <param name=\"base_frame_id\"             value=\"$(arg base_frame_id)\"/>\n",
    "    <param name=\"global_frame_id\"           value=\"$(arg global_frame_id)\"/>\n",
    "    <param name=\"resample_interval\"         value=\"1\"/>\n",
    "    <!-- Increase tolerance because the computer can get quite busy -->\n",
    "    <param name=\"transform_tolerance\"       value=\"1.0\"/>\n",
    "    <param name=\"recovery_alpha_slow\"       value=\"0.0\"/>\n",
    "    <param name=\"recovery_alpha_fast\"       value=\"0.0\"/>\n",
    "    <param name=\"initial_pose_x\"            value=\"$(arg initial_pose_x)\"/>\n",
    "    <param name=\"initial_pose_y\"            value=\"$(arg initial_pose_y)\"/>\n",
    "    <param name=\"initial_pose_a\"            value=\"$(arg initial_pose_a)\"/>\n",
    "    <remap from=\"scan\"                      to=\"$(arg scan_topic)\"/>\n",
    "    <remap from=\"initialpose\"               to=\"/robot1/initialpose\"/>\n",
    "    <remap from=\"amcl_pose\"                 to=\"/robot1/amcl_pose\"/>\n",
    "    <remap from=\"particlecloud\"             to=\"/robot1/particlecloud\"/>\n",
    "\n",
    "  </node>\n",
    "\n",
    "</launch>"
   ]
  },
  {
   "cell_type": "markdown",
   "metadata": {},
   "source": [
    "As you see you have to fill all the topics or frames according to the name that takes with /robot1/ as you did before to said that is from the robot1 that you have already created."
   ]
  },
  {
   "cell_type": "markdown",
   "metadata": {},
   "source": [
    "Dos the same and create the amcl to each robot and call them **amcl_robot2.launch** and **amcl_robot3.launch** respectively. You should have something like the following"
   ]
  },
  {
   "cell_type": "markdown",
   "metadata": {},
   "source": [
    "**amcl_robot2.launch** should be like this"
   ]
  },
  {
   "cell_type": "code",
   "execution_count": null,
   "metadata": {
    "collapsed": true
   },
   "outputs": [],
   "source": [
    "<launch>\n",
    "\n",
    "  <arg name=\"use_map_topic\"   default=\"false\"/>\n",
    "  <arg name=\"scan_topic\"      default=\"/robot2/kobuki/laser/scan\"/>\n",
    "  <arg name=\"initial_pose_x\"  default=\"-4.0\"/>\n",
    "  <arg name=\"initial_pose_y\"  default=\"1.0\"/>\n",
    "  <arg name=\"initial_pose_a\"  default=\"0.0\"/>\n",
    "  <arg name=\"odom_frame_id\"   default=\"robot2_tf/odom\"/>\n",
    "  <arg name=\"base_frame_id\"   default=\"robot2_tf/base_footprint\"/>\n",
    "  <arg name=\"global_frame_id\" default=\"/map\"/>\n",
    "\n",
    "  <node pkg=\"amcl\" type=\"amcl\" name=\"robot2_amcl\">\n",
    "    <param name=\"use_map_topic\"             value=\"$(arg use_map_topic)\"/>\n",
    "    <!-- Publish scans from best pose at a max of 10 Hz -->\n",
    "    <param name=\"odom_model_type\"           value=\"diff\"/>\n",
    "    <param name=\"odom_alpha5\"               value=\"0.1\"/>\n",
    "    <param name=\"gui_publish_rate\"          value=\"10.0\"/>\n",
    "    <param name=\"laser_max_beams\"             value=\"60\"/>\n",
    "    <param name=\"laser_max_range\"           value=\"12.0\"/>\n",
    "    <param name=\"min_particles\"             value=\"500\"/>\n",
    "    <param name=\"max_particles\"             value=\"2000\"/>\n",
    "    <param name=\"kld_err\"                   value=\"0.05\"/>\n",
    "    <param name=\"kld_z\"                     value=\"0.99\"/>\n",
    "    <param name=\"odom_alpha1\"               value=\"0.2\"/>\n",
    "    <param name=\"odom_alpha2\"               value=\"0.2\"/>\n",
    "    <!-- translation std dev, m -->\n",
    "    <param name=\"odom_alpha3\"               value=\"0.2\"/>\n",
    "    <param name=\"odom_alpha4\"               value=\"0.2\"/>\n",
    "    <param name=\"laser_z_hit\"               value=\"0.5\"/>\n",
    "    <param name=\"laser_z_short\"             value=\"0.05\"/>\n",
    "    <param name=\"laser_z_max\"               value=\"0.05\"/>\n",
    "    <param name=\"laser_z_rand\"              value=\"0.5\"/>\n",
    "    <param name=\"laser_sigma_hit\"           value=\"0.2\"/>\n",
    "    <param name=\"laser_lambda_short\"        value=\"0.1\"/>\n",
    "    <param name=\"laser_model_type\"          value=\"likelihood_field\"/>\n",
    "    <!-- <param name=\"laser_model_type\" value=\"beam\"/> -->\n",
    "    <param name=\"laser_likelihood_max_dist\" value=\"2.0\"/>\n",
    "    <param name=\"update_min_d\"              value=\"0.25\"/>\n",
    "    <param name=\"update_min_a\"              value=\"0.2\"/>\n",
    "    <param name=\"odom_frame_id\"             value=\"$(arg odom_frame_id)\"/>\n",
    "    <param name=\"base_frame_id\"             value=\"$(arg base_frame_id)\"/>\n",
    "    <param name=\"global_frame_id\"           value=\"$(arg global_frame_id)\"/>\n",
    "    <param name=\"resample_interval\"         value=\"1\"/>\n",
    "    <!-- Increase tolerance because the computer can get quite busy -->\n",
    "    <param name=\"transform_tolerance\"       value=\"1.0\"/>\n",
    "    <param name=\"recovery_alpha_slow\"       value=\"0.0\"/>\n",
    "    <param name=\"recovery_alpha_fast\"       value=\"0.0\"/>\n",
    "    <param name=\"initial_pose_x\"            value=\"$(arg initial_pose_x)\"/>\n",
    "    <param name=\"initial_pose_y\"            value=\"$(arg initial_pose_y)\"/>\n",
    "    <param name=\"initial_pose_a\"            value=\"$(arg initial_pose_a)\"/>\n",
    "    <remap from=\"scan\"                      to=\"$(arg scan_topic)\"/>\n",
    "    <remap from=\"initialpose\"               to=\"/robot2/initialpose\"/>\n",
    "    <remap from=\"amcl_pose\"                 to=\"/robot2/amcl_pose\"/>\n",
    "    <remap from=\"particlecloud\"             to=\"/robot2/particlecloud\"/>\n",
    "\n",
    "  </node>\n",
    "\n",
    "</launch>"
   ]
  },
  {
   "cell_type": "markdown",
   "metadata": {},
   "source": [
    "**amcl_robot3.launch** should be like this"
   ]
  },
  {
   "cell_type": "code",
   "execution_count": null,
   "metadata": {
    "collapsed": true
   },
   "outputs": [],
   "source": [
    "<launch>\n",
    "\n",
    "  <arg name=\"use_map_topic\"   default=\"false\"/>\n",
    "  <arg name=\"scan_topic\"      default=\"/robot3/kobuki/laser/scan\"/>\n",
    "  <arg name=\"initial_pose_x\"  default=\"1.0\"/>\n",
    "  <arg name=\"initial_pose_y\"  default=\"-6.0\"/>\n",
    "  <arg name=\"initial_pose_a\"  default=\"0.0\"/>\n",
    "  <arg name=\"odom_frame_id\"   default=\"robot3_tf/odom\"/>\n",
    "  <arg name=\"base_frame_id\"   default=\"robot3_tf/base_footprint\"/>\n",
    "  <arg name=\"global_frame_id\" default=\"/map\"/>\n",
    "\n",
    "  <node pkg=\"amcl\" type=\"amcl\" name=\"robot3_amcl\">\n",
    "    <param name=\"use_map_topic\"             value=\"$(arg use_map_topic)\"/>\n",
    "    <!-- Publish scans from best pose at a max of 10 Hz -->\n",
    "    <param name=\"odom_model_type\"           value=\"diff\"/>\n",
    "    <param name=\"odom_alpha5\"               value=\"0.1\"/>\n",
    "    <param name=\"gui_publish_rate\"          value=\"10.0\"/>\n",
    "    <param name=\"laser_max_beams\"             value=\"60\"/>\n",
    "    <param name=\"laser_max_range\"           value=\"12.0\"/>\n",
    "    <param name=\"min_particles\"             value=\"500\"/>\n",
    "    <param name=\"max_particles\"             value=\"2000\"/>\n",
    "    <param name=\"kld_err\"                   value=\"0.05\"/>\n",
    "    <param name=\"kld_z\"                     value=\"0.99\"/>\n",
    "    <param name=\"odom_alpha1\"               value=\"0.2\"/>\n",
    "    <param name=\"odom_alpha2\"               value=\"0.2\"/>\n",
    "    <!-- translation std dev, m -->\n",
    "    <param name=\"odom_alpha3\"               value=\"0.2\"/>\n",
    "    <param name=\"odom_alpha4\"               value=\"0.2\"/>\n",
    "    <param name=\"laser_z_hit\"               value=\"0.5\"/>\n",
    "    <param name=\"laser_z_short\"             value=\"0.05\"/>\n",
    "    <param name=\"laser_z_max\"               value=\"0.05\"/>\n",
    "    <param name=\"laser_z_rand\"              value=\"0.5\"/>\n",
    "    <param name=\"laser_sigma_hit\"           value=\"0.2\"/>\n",
    "    <param name=\"laser_lambda_short\"        value=\"0.1\"/>\n",
    "    <param name=\"laser_model_type\"          value=\"likelihood_field\"/>\n",
    "    <!-- <param name=\"laser_model_type\" value=\"beam\"/> -->\n",
    "    <param name=\"laser_likelihood_max_dist\" value=\"2.0\"/>\n",
    "    <param name=\"update_min_d\"              value=\"0.25\"/>\n",
    "    <param name=\"update_min_a\"              value=\"0.2\"/>\n",
    "    <param name=\"odom_frame_id\"             value=\"$(arg odom_frame_id)\"/>\n",
    "    <param name=\"base_frame_id\"             value=\"$(arg base_frame_id)\"/>\n",
    "    <param name=\"global_frame_id\"           value=\"$(arg global_frame_id)\"/>\n",
    "    <param name=\"resample_interval\"         value=\"1\"/>\n",
    "    <!-- Increase tolerance because the computer can get quite busy -->\n",
    "    <param name=\"transform_tolerance\"       value=\"1.0\"/>\n",
    "    <param name=\"recovery_alpha_slow\"       value=\"0.0\"/>\n",
    "    <param name=\"recovery_alpha_fast\"       value=\"0.0\"/>\n",
    "    <param name=\"initial_pose_x\"            value=\"$(arg initial_pose_x)\"/>\n",
    "    <param name=\"initial_pose_y\"            value=\"$(arg initial_pose_y)\"/>\n",
    "    <param name=\"initial_pose_a\"            value=\"$(arg initial_pose_a)\"/>\n",
    "    <remap from=\"scan\"                      to=\"$(arg scan_topic)\"/>\n",
    "    <remap from=\"initialpose\"               to=\"/robot3/initialpose\"/>\n",
    "    <remap from=\"amcl_pose\"                 to=\"/robot3/amcl_pose\"/>\n",
    "    <remap from=\"particlecloud\"             to=\"/robot3/particlecloud\"/>\n",
    "\n",
    "  </node>\n",
    "\n",
    "</launch>"
   ]
  },
  {
   "cell_type": "markdown",
   "metadata": {},
   "source": [
    "You should modify the **navigation.launch** like this."
   ]
  },
  {
   "cell_type": "code",
   "execution_count": null,
   "metadata": {
    "collapsed": true
   },
   "outputs": [],
   "source": [
    "<launch>\n",
    "  <param name=\"/use_sim_time\" value=\"true\"/>\n",
    "\n",
    "  <!-- Run the map server -->\n",
    "  <node name=\"map_server\" pkg=\"map_server\" type=\"map_server\" args=\"$(find my_mapping_launcher)/config/my_map.yaml\" >\n",
    "    <param name=\"frame_id\" value=\"/map\" />\n",
    "  </node>\n",
    "\n",
    "\n",
    "\n",
    " <!-- Properties of each robot      -->\n",
    "    \n",
    "   <!-- AMCL      -->\n",
    "\n",
    "    <include file=\"$(find multiple_turtlebots_nav)/launch/amcl_robot1.launch\" />\n",
    "    <include file=\"$(find multiple_turtlebots_nav)/launch/amcl_robot2.launch\" />\n",
    "    <include file=\"$(find multiple_turtlebots_nav)/launch/amcl_robot3.launch\" />\n",
    "    \n",
    "\n",
    "<!-- Launching Rviz      -->\n",
    "\n",
    "  <node name=\"rviz\" pkg=\"rviz\" type=\"rviz\" args=\"-d $(find my_mapping_launcher)/rviz/navigation.rviz\" />\n",
    "\n",
    "</launch>"
   ]
  },
  {
   "cell_type": "markdown",
   "metadata": {},
   "source": [
    "Now to see how it's working you can stop the *navigation.launch *and launch the file again with all the changes."
   ]
  },
  {
   "cell_type": "markdown",
   "metadata": {},
   "source": [
    "if you go to the *graphical tool* you should see something like this."
   ]
  },
  {
   "cell_type": "markdown",
   "metadata": {},
   "source": [
    "<img src=\"images/amcl_rviz.png\">"
   ]
  },
  {
   "cell_type": "markdown",
   "metadata": {},
   "source": [
    "Where now you can see the robots and their pointclouds of amcl , it means that now they know their initial pose , now let's make the Move_base"
   ]
  },
  {
   "cell_type": "markdown",
   "metadata": {},
   "source": [
    "### Launch the move_base for each robot"
   ]
  },
  {
   "cell_type": "markdown",
   "metadata": {},
   "source": [
    "As you did it before with the amcl files, you have to do the same with move_base files. Create a new file a call it **move_base_1.launch** with the following code."
   ]
  },
  {
   "cell_type": "code",
   "execution_count": null,
   "metadata": {
    "collapsed": true
   },
   "outputs": [],
   "source": [
    "<!--\n",
    "    ROS navigation stack with velocity smoother and safety (reactive) controller\n",
    "-->\n",
    "<launch>\n",
    "\n",
    "\n",
    "  <include file=\"$(find turtlebot_navigation)/launch/includes/velocity_smoother.launch.xml\"/>\n",
    "  <include file=\"$(find turtlebot_navigation)/launch/includes/safety_controller.launch.xml\"/>\n",
    "\n",
    "  <arg name=\"odom_frame_id\"   default=\"robot1_tf/odom\"/>\n",
    "  <arg name=\"base_frame_id\"   default=\"robot1_tf/base_footprint\"/>\n",
    "  <arg name=\"global_frame_id\" default=\"/map\"/>\n",
    "  <arg name=\"odom_topic\" default=\"/robot1/odom\" />\n",
    "  <arg name=\"laser_topic\" default=\"/robot1/kobuki/laser/scan\" />\n",
    "  <arg name=\"custom_param_file\" default=\"$(find turtlebot_navigation)/param/dummy.yaml\"/>\n",
    "\n",
    "  <node pkg=\"move_base\" type=\"move_base\" respawn=\"false\" name=\"move_base\" output=\"screen\">\n",
    "    <rosparam file=\"$(find turtlebot_navigation)/param/costmap_common_params.yaml\" command=\"load\" ns=\"global_costmap\" />\n",
    "    <rosparam file=\"$(find turtlebot_navigation)/param/costmap_common_params.yaml\" command=\"load\" ns=\"local_costmap\" />\n",
    "    <rosparam file=\"$(find turtlebot_navigation)/param/local_costmap_params.yaml\" command=\"load\" />\n",
    "    <rosparam file=\"$(find turtlebot_navigation)/param/global_costmap_params.yaml\" command=\"load\" />\n",
    "    <rosparam file=\"$(find turtlebot_navigation)/param/dwa_local_planner_params.yaml\" command=\"load\" />\n",
    "    <rosparam file=\"$(find turtlebot_navigation)/param/move_base_params.yaml\" command=\"load\" />\n",
    "    <rosparam file=\"$(find turtlebot_navigation)/param/global_planner_params.yaml\" command=\"load\" />\n",
    "    <rosparam file=\"$(find turtlebot_navigation)/param/navfn_global_planner_params.yaml\" command=\"load\" />\n",
    "    <!-- external params file that could be loaded into the move_base namespace -->\n",
    "    <rosparam file=\"$(arg custom_param_file)\" command=\"load\" />\n",
    "\n",
    "    <!-- reset frame_id parameters using user input data -->\n",
    "    <param name=\"global_costmap/global_frame\" value=\"$(arg global_frame_id)\"/>\n",
    "    <param name=\"global_costmap/robot_base_frame\" value=\"$(arg base_frame_id)\"/>\n",
    "    <param name=\"local_costmap/global_frame\" value=\"$(arg odom_frame_id)\"/>\n",
    "    <param name=\"local_costmap/robot_base_frame\" value=\"$(arg base_frame_id)\"/>\n",
    "    <param name=\"DWAPlannerROS/global_frame_id\" value=\"$(arg odom_frame_id)\"/>\n",
    "\n",
    "    <remap from=\"cmd_vel\" to=\"/robot1/cmd_vel\"/>\n",
    "    <remap from=\"odom\" to=\"$(arg odom_topic)\"/>\n",
    "    <remap from=\"scan\" to=\"$(arg laser_topic)\"/>\n",
    "    <remap from=\"map\" to=\"/map\" />\n",
    "    <remap from=\"/move_base_simple/goal\"                                           to=\"/robot1/move_base_simple/goal\" />\n",
    "    <remap from=\"/move_base/TebLocalPlannerROS/global_plan\"                        to=\"/robot1/move_base/TebLocalPlannerROS/global_plan\" />\n",
    "    <remap from=\"/move_base/TebLocalPlannerROS/local_plan\"                         to=\"/robot1/move_base/TebLocalPlannerROS/local_plan\" />\n",
    "    <remap from=\"/move_base/TebLocalPlannerROS/teb_markers\"                        to=\"/robot1/move_base/TebLocalPlannerROS/teb_markers\" />\n",
    "    <remap from=\"/move_base/TebLocalPlannerROS/teb_markers_array\"                  to=\"/robot1/move_base/TebLocalPlannerROS/teb_markers_array\" />\n",
    "    <remap from=\"/move_base/TebLocalPlannerROS/teb_poses\"                          to=\"/robot1/move_base/TebLocalPlannerROS/teb_poses\" />\n",
    "    <remap from=\"/move_base/global_costmap/costmap\"                                to=\"/robot1/move_base/global_costmap/costmap\" />\n",
    "    <remap from=\"/move_base/global_costmap/costmap_updates\"                        to=\"/robot1/move_base/global_costmap/costmap_updates\" />\n",
    "    <remap from=\"/move_base/local_costmap/costmap\"                                 to=\"/robot1/move_base/local_costmap/costmap\" />\n",
    "    <remap from=\"/move_base/local_costmap/costmap_updates\"                         to=\"/robot1/move_base/local_costmap/costmap_updates\" />\n",
    "    <remap from=\"/move_base/local_costmap/footprint\"                               to=\"/robot1/move_base/local_costmap/footprint\" />\n",
    "\n",
    "    <remap from=\"/move_base/GlobalPlanner/parameter_descriptions\"                  to=\"/robot1/move_base/GlobalPlanner/parameter_descriptions\" />\n",
    "    <remap from=\"/move_base/GlobalPlanner/parameter_updates\"                       to=\"/robot1/move_base/GlobalPlanner/parameter_updates\" />\n",
    "    <remap from=\"/move_base/GlobalPlanner/plan\"                                    to=\"/robot1/move_base/GlobalPlanner/plan\" />\n",
    "    <remap from=\"/move_base/GlobalPlanner/potential\"                               to=\"/robot1/move_base/GlobalPlanner/potential\" />\n",
    "    <remap from=\"/move_base/TebLocalPlannerROS/obstacles\"                          to=\"/robot1/move_base/TebLocalPlannerROS/obstacles\" />\n",
    "    <remap from=\"/move_base/TebLocalPlannerROS/parameter_descriptions\"             to=\"/robot1/move_base/TebLocalPlannerROS/parameter_descriptions\" />\n",
    "    <remap from=\"/move_base/TebLocalPlannerROS/parameter_updates\"                  to=\"/robot1/move_base/TebLocalPlannerROS/parameter_updates\" />\n",
    "    <remap from=\"/move_base/cancel\"                                                to=\"/robot1/move_base/cancel\" />\n",
    "    <remap from=\"/move_base/current_goal\"                                          to=\"/robot1/move_base/current_goal\" />\n",
    "    <remap from=\"/move_base/feedback\"                                              to=\"/robot1/move_base/feedback\" />\n",
    "    <remap from=\"/move_base/global_costmap/footprint\"                              to=\"/robot1/move_base/global_costmap/footprint\" />\n",
    "    <remap from=\"/move_base/global_costmap/inflation_layer/parameter_descriptions\" to=\"/robot1/move_base/global_costmap/inflation_layer/parameter_descriptions\" />\n",
    "    <remap from=\"/move_base/global_costmap/inflation_layer/parameter_updates\"      to=\"/robot1/move_base/global_costmap/inflation_layer/parameter_updates\" />\n",
    "    <remap from=\"/move_base/global_costmap/obstacle_layer/clearing_endpoints\"      to=\"/robot1/move_base/global_costmap/obstacle_layer/clearing_endpoints\" />\n",
    "    <remap from=\"/move_base/global_costmap/obstacle_layer/parameter_descriptions\"  to=\"/robot1/move_base/global_costmap/obstacle_layer/parameter_descriptions\" />\n",
    "    <remap from=\"/move_base/global_costmap/obstacle_layer/parameter_updates\"       to=\"/robot1/move_base/global_costmap/obstacle_layer/parameter_updates\" />\n",
    "    <remap from=\"/move_base/global_costmap/parameter_descriptions\"                 to=\"/robot1/move_base/global_costmap/parameter_descriptions\" />\n",
    "    <remap from=\"/move_base/global_costmap/parameter_updates\"                      to=\"/robot1/move_base/global_costmap/parameter_updates\" />\n",
    "    <remap from=\"/move_base/global_costmap/static_layer/parameter_descriptions\"    to=\"/robot1/move_base/global_costmap/static_layer/parameter_descriptions\" />\n",
    "    <remap from=\"/move_base/global_costmap/static_layer/parameter_updates\"         to=\"/robot1/move_base/global_costmap/static_layer/parameter_updates\" />\n",
    "    <remap from=\"/move_base/goal\"                                                  to=\"/robot1/move_base/goal\" />\n",
    "    <remap from=\"/move_base/local_costmap/obstacle_layer/parameter_descriptions\"   to=\"/robot1/move_base/local_costmap/obstacle_layer/parameter_descriptions\" />\n",
    "    <remap from=\"/move_base/local_costmap/obstacle_layer/parameter_updates\"        to=\"/robot1/move_base/local_costmap/obstacle_layer/parameter_updates\" />\n",
    "    <remap from=\"/move_base/local_costmap/parameter_descriptions\"                  to=\"/robot1/move_base/local_costmap/parameter_descriptions\" />\n",
    "    <remap from=\"/move_base/local_costmap/parameter_updates\"                       to=\"/robot1/move_base/local_costmap/parameter_updates\" />\n",
    "    <remap from=\"/move_base/local_costmap/static_layer/parameter_descriptions\"     to=\"/robot1/move_base/local_costmap/static_layer/parameter_descriptions\" />\n",
    "    <remap from=\"/move_base/local_costmap/static_layer/parameter_updates\"          to=\"/robot1/move_base/local_costmap/static_layer/parameter_updates\" />\n",
    "    <remap from=\"/move_base/parameter_descriptions\"                                to=\"/robot1/move_base/parameter_descriptions\" />\n",
    "    <remap from=\"/move_base/parameter_updates\"                                     to=\"/robot1/move_base/parameter_updates\" />\n",
    "    <remap from=\"/move_base/result\"                                                to=\"/robot1/move_base/result\" />\n",
    "    <remap from=\"/move_base/status\"                                                to=\"/robot1/move_base/status\" />\n",
    "    <remap from=\"/move_base_simple/goal\"                                           to=\"/robot1/move_base_simple/goal\" />\n",
    "  </node>\n",
    "\n",
    "\n",
    "</launch>"
   ]
  },
  {
   "cell_type": "markdown",
   "metadata": {},
   "source": [
    "As you see, same to the amcl you saw before, you should remap some topics according to your robot, in this case robot1. Now create the *move_base* files to each robot and call them **move_base_2.launch** to robot2 and **move_base_3.launch** to robot3. You should have something similar to the next code"
   ]
  },
  {
   "cell_type": "markdown",
   "metadata": {},
   "source": [
    "**move_base_2.launch** should be like this.\n"
   ]
  },
  {
   "cell_type": "code",
   "execution_count": null,
   "metadata": {
    "collapsed": true
   },
   "outputs": [],
   "source": [
    "<!--\n",
    "    ROS navigation stack with velocity smoother and safety (reactive) controller\n",
    "-->\n",
    "<launch>\n",
    "\n",
    "\n",
    "  <arg name=\"odom_frame_id\"   default=\"robot2_tf/odom\"/>\n",
    "  <arg name=\"base_frame_id\"   default=\"robot2_tf/base_footprint\"/>\n",
    "  <arg name=\"global_frame_id\" default=\"map\"/>\n",
    "  <arg name=\"odom_topic\" default=\"/robot2_tf/odom\" />\n",
    "  <arg name=\"laser_topic\" default=\"/robot2/kobuki/laser/scan\" />\n",
    "  <arg name=\"custom_param_file\" default=\"$(find turtlebot_navigation)/param/dummy.yaml\"/>\n",
    "\n",
    "  <node pkg=\"move_base\" type=\"move_base\" respawn=\"false\" name=\"move_base2\" output=\"screen\">\n",
    "    <rosparam file=\"$(find turtlebot_navigation)/param/costmap_common_params.yaml\" command=\"load\" ns=\"global_costmap\" />\n",
    "    <rosparam file=\"$(find turtlebot_navigation)/param/costmap_common_params.yaml\" command=\"load\" ns=\"local_costmap\" />\n",
    "    <rosparam file=\"$(find turtlebot_navigation)/param/local_costmap_params.yaml\" command=\"load\" />\n",
    "    <rosparam file=\"$(find turtlebot_navigation)/param/global_costmap_params.yaml\" command=\"load\" />\n",
    "    <rosparam file=\"$(find turtlebot_navigation)/param/dwa_local_planner_params.yaml\" command=\"load\" />\n",
    "    <rosparam file=\"$(find turtlebot_navigation)/param/move_base_params.yaml\" command=\"load\" />\n",
    "    <rosparam file=\"$(find turtlebot_navigation)/param/global_planner_params.yaml\" command=\"load\" />\n",
    "    <rosparam file=\"$(find turtlebot_navigation)/param/navfn_global_planner_params.yaml\" command=\"load\" />\n",
    "    <!-- external params file that could be loaded into the move_base namespace -->\n",
    "    <rosparam file=\"$(arg custom_param_file)\" command=\"load\" />\n",
    "\n",
    "    <!-- reset frame_id parameters using user input data -->\n",
    "    <param name=\"global_costmap/global_frame\" value=\"$(arg global_frame_id)\"/>\n",
    "    <param name=\"global_costmap/robot_base_frame\" value=\"$(arg base_frame_id)\"/>\n",
    "    <param name=\"local_costmap/global_frame\" value=\"$(arg odom_frame_id)\"/>\n",
    "    <param name=\"local_costmap/robot_base_frame\" value=\"$(arg base_frame_id)\"/>\n",
    "    <param name=\"DWAPlannerROS/global_frame_id\" value=\"$(arg odom_frame_id)\"/>\n",
    "\n",
    "    <remap from=\"cmd_vel\" to=\"/robot2/cmd_vel\"/>\n",
    "    <remap from=\"odom\" to=\"$(arg odom_topic)\"/>\n",
    "    <remap from=\"scan\" to=\"$(arg laser_topic)\"/>\n",
    "    <remap from=\"map\" to=\"/map\" />\n",
    "    <remap from=\"/move_base_simple/goal\"                                           to=\"/robot2/move_base_simple/goal\" />\n",
    "    <remap from=\"/move_base/TebLocalPlannerROS/global_plan\"                        to=\"/robot2/move_base/TebLocalPlannerROS/global_plan\" />\n",
    "    <remap from=\"/move_base/TebLocalPlannerROS/local_plan\"                         to=\"/robot2/move_base/TebLocalPlannerROS/local_plan\" />\n",
    "    <remap from=\"/move_base/TebLocalPlannerROS/teb_markers\"                        to=\"/robot2/move_base/TebLocalPlannerROS/teb_markers\" />\n",
    "    <remap from=\"/move_base/TebLocalPlannerROS/teb_markers_array\"                  to=\"/robot2/move_base/TebLocalPlannerROS/teb_markers_array\" />\n",
    "    <remap from=\"/move_base/TebLocalPlannerROS/teb_poses\"                          to=\"/robot2/move_base/TebLocalPlannerROS/teb_poses\" />\n",
    "    <remap from=\"/move_base/global_costmap/costmap\"                                to=\"/robot2/move_base/global_costmap/costmap\" />\n",
    "    <remap from=\"/move_base/global_costmap/costmap_updates\"                        to=\"/robot2/move_base/global_costmap/costmap_updates\" />\n",
    "    <remap from=\"/move_base/local_costmap/costmap\"                                 to=\"/robot2/move_base/local_costmap/costmap\" />\n",
    "    <remap from=\"/move_base/local_costmap/costmap_updates\"                         to=\"/robot2/move_base/local_costmap/costmap_updates\" />\n",
    "    <remap from=\"/move_base/local_costmap/footprint\"                               to=\"/robot2/move_base/local_costmap/footprint\" />\n",
    "\n",
    "    <remap from=\"/move_base/GlobalPlanner/parameter_descriptions\"                  to=\"/robot2/move_base/GlobalPlanner/parameter_descriptions\" />\n",
    "    <remap from=\"/move_base/GlobalPlanner/parameter_updates\"                       to=\"/robot2/move_base/GlobalPlanner/parameter_updates\" />\n",
    "    <remap from=\"/move_base/GlobalPlanner/plan\"                                    to=\"/robot2/move_base/GlobalPlanner/plan\" />\n",
    "    <remap from=\"/move_base/GlobalPlanner/potential\"                               to=\"/robot2/move_base/GlobalPlanner/potential\" />\n",
    "    <remap from=\"/move_base/TebLocalPlannerROS/obstacles\"                          to=\"/robot2/move_base/TebLocalPlannerROS/obstacles\" />\n",
    "    <remap from=\"/move_base/TebLocalPlannerROS/parameter_descriptions\"             to=\"/robot2/move_base/TebLocalPlannerROS/parameter_descriptions\" />\n",
    "    <remap from=\"/move_base/TebLocalPlannerROS/parameter_updates\"                  to=\"/robot2/move_base/TebLocalPlannerROS/parameter_updates\" />\n",
    "    <remap from=\"/move_base/cancel\"                                                to=\"/robot2/move_base/cancel\" />\n",
    "    <remap from=\"/move_base/current_goal\"                                          to=\"/robot2/move_base/current_goal\" />\n",
    "    <remap from=\"/move_base/feedback\"                                              to=\"/robot2/move_base/feedback\" />\n",
    "    <remap from=\"/move_base/global_costmap/footprint\"                              to=\"/robot2/move_base/global_costmap/footprint\" />\n",
    "    <remap from=\"/move_base/global_costmap/inflation_layer/parameter_descriptions\" to=\"/robot2/move_base/global_costmap/inflation_layer/parameter_descriptions\" />\n",
    "    <remap from=\"/move_base/global_costmap/inflation_layer/parameter_updates\"      to=\"/robot2/move_base/global_costmap/inflation_layer/parameter_updates\" />\n",
    "    <remap from=\"/move_base/global_costmap/obstacle_layer/clearing_endpoints\"      to=\"/robot2/move_base/global_costmap/obstacle_layer/clearing_endpoints\" />\n",
    "    <remap from=\"/move_base/global_costmap/obstacle_layer/parameter_descriptions\"  to=\"/robot2/move_base/global_costmap/obstacle_layer/parameter_descriptions\" />\n",
    "    <remap from=\"/move_base/global_costmap/obstacle_layer/parameter_updates\"       to=\"/robot2/move_base/global_costmap/obstacle_layer/parameter_updates\" />\n",
    "    <remap from=\"/move_base/global_costmap/parameter_descriptions\"                 to=\"/robot2/move_base/global_costmap/parameter_descriptions\" />\n",
    "    <remap from=\"/move_base/global_costmap/parameter_updates\"                      to=\"/robot2/move_base/global_costmap/parameter_updates\" />\n",
    "    <remap from=\"/move_base/global_costmap/static_layer/parameter_descriptions\"    to=\"/robot2/move_base/global_costmap/static_layer/parameter_descriptions\" />\n",
    "    <remap from=\"/move_base/global_costmap/static_layer/parameter_updates\"         to=\"/robot2/move_base/global_costmap/static_layer/parameter_updates\" />\n",
    "    <remap from=\"/move_base/goal\"                                                  to=\"/robot2/move_base/goal\" />\n",
    "    <remap from=\"/move_base/local_costmap/obstacle_layer/parameter_descriptions\"   to=\"/robot2/move_base/local_costmap/obstacle_layer/parameter_descriptions\" />\n",
    "    <remap from=\"/move_base/local_costmap/obstacle_layer/parameter_updates\"        to=\"/robot2/move_base/local_costmap/obstacle_layer/parameter_updates\" />\n",
    "    <remap from=\"/move_base/local_costmap/parameter_descriptions\"                  to=\"/robot2/move_base/local_costmap/parameter_descriptions\" />\n",
    "    <remap from=\"/move_base/local_costmap/parameter_updates\"                       to=\"/robot2/move_base/local_costmap/parameter_updates\" />\n",
    "    <remap from=\"/move_base/local_costmap/static_layer/parameter_descriptions\"     to=\"/robot2/move_base/local_costmap/static_layer/parameter_descriptions\" />\n",
    "    <remap from=\"/move_base/local_costmap/static_layer/parameter_updates\"          to=\"/robot2/move_base/local_costmap/static_layer/parameter_updates\" />\n",
    "    <remap from=\"/move_base/parameter_descriptions\"                                to=\"/robot2/move_base/parameter_descriptions\" />\n",
    "    <remap from=\"/move_base/parameter_updates\"                                     to=\"/robot2/move_base/parameter_updates\" />\n",
    "    <remap from=\"/move_base/result\"                                                to=\"/robot2/move_base/result\" />\n",
    "    <remap from=\"/move_base/status\"                                                to=\"/robot2/move_base/status\" />\n",
    "    <remap from=\"/move_base_simple/goal\"                                           to=\"/robot2/move_base_simple/goal\" />\n",
    "  </node>\n",
    "\n",
    "\n",
    "</launch>"
   ]
  },
  {
   "cell_type": "markdown",
   "metadata": {},
   "source": [
    "and **move_base_3.launch** should be like this."
   ]
  },
  {
   "cell_type": "code",
   "execution_count": null,
   "metadata": {
    "collapsed": true
   },
   "outputs": [],
   "source": [
    "<!--\n",
    "    ROS navigation stack with velocity smoother and safety (reactive) controller\n",
    "-->\n",
    "<launch>\n",
    "\n",
    "\n",
    "\n",
    "\n",
    "  <arg name=\"odom_frame_id\"   default=\"robot3_tf/odom\"/>\n",
    "  <arg name=\"base_frame_id\"   default=\"robot3_tf/base_footprint\"/>\n",
    "  <arg name=\"global_frame_id\" default=\"map\"/>\n",
    "  <arg name=\"odom_topic\" default=\"/robot3/odom\" />\n",
    "  <arg name=\"laser_topic\" default=\"/robot3/kobuki/laser/scan\" />\n",
    "  <arg name=\"custom_param_file\" default=\"$(find turtlebot_navigation)/param/dummy.yaml\"/>\n",
    "\n",
    "  <node pkg=\"move_base\" type=\"move_base\" respawn=\"false\" name=\"move_base3\" output=\"screen\">\n",
    "    <rosparam file=\"$(find turtlebot_navigation)/param/costmap_common_params.yaml\" command=\"load\" ns=\"global_costmap\" />\n",
    "    <rosparam file=\"$(find turtlebot_navigation)/param/costmap_common_params.yaml\" command=\"load\" ns=\"local_costmap\" />\n",
    "    <rosparam file=\"$(find turtlebot_navigation)/param/local_costmap_params.yaml\" command=\"load\" />\n",
    "    <rosparam file=\"$(find turtlebot_navigation)/param/global_costmap_params.yaml\" command=\"load\" />\n",
    "    <rosparam file=\"$(find turtlebot_navigation)/param/dwa_local_planner_params.yaml\" command=\"load\" />\n",
    "    <rosparam file=\"$(find turtlebot_navigation)/param/move_base_params.yaml\" command=\"load\" />\n",
    "    <rosparam file=\"$(find turtlebot_navigation)/param/global_planner_params.yaml\" command=\"load\" />\n",
    "    <rosparam file=\"$(find turtlebot_navigation)/param/navfn_global_planner_params.yaml\" command=\"load\" />\n",
    "    <!-- external params file that could be loaded into the move_base namespace -->\n",
    "    <rosparam file=\"$(arg custom_param_file)\" command=\"load\" />\n",
    "\n",
    "    <!-- reset frame_id parameters using user input data -->\n",
    "    <param name=\"global_costmap/global_frame\" value=\"$(arg global_frame_id)\"/>\n",
    "    <param name=\"global_costmap/robot_base_frame\" value=\"$(arg base_frame_id)\"/>\n",
    "    <param name=\"local_costmap/global_frame\" value=\"$(arg odom_frame_id)\"/>\n",
    "    <param name=\"local_costmap/robot_base_frame\" value=\"$(arg base_frame_id)\"/>\n",
    "    <param name=\"DWAPlannerROS/global_frame_id\" value=\"$(arg odom_frame_id)\"/>\n",
    "\n",
    "    <remap from=\"cmd_vel\" to=\"/robot3/cmd_vel\"/>\n",
    "    <remap from=\"odom\" to=\"$(arg odom_topic)\"/>\n",
    "    <remap from=\"scan\" to=\"$(arg laser_topic)\"/>\n",
    "    <remap from=\"map\" to=\"/map\" />\n",
    "    <remap from=\"/move_base_simple/goal\"                                           to=\"/robot3/move_base_simple/goal\" />\n",
    "    <remap from=\"/move_base/TebLocalPlannerROS/global_plan\"                        to=\"/robot3/move_base/TebLocalPlannerROS/global_plan\" />\n",
    "    <remap from=\"/move_base/TebLocalPlannerROS/local_plan\"                         to=\"/robot3/move_base/TebLocalPlannerROS/local_plan\" />\n",
    "    <remap from=\"/move_base/TebLocalPlannerROS/teb_markers\"                        to=\"/robot3/move_base/TebLocalPlannerROS/teb_markers\" />\n",
    "    <remap from=\"/move_base/TebLocalPlannerROS/teb_markers_array\"                  to=\"/robot3/move_base/TebLocalPlannerROS/teb_markers_array\" />\n",
    "    <remap from=\"/move_base/TebLocalPlannerROS/teb_poses\"                          to=\"/robot3/move_base/TebLocalPlannerROS/teb_poses\" />\n",
    "    <remap from=\"/move_base/global_costmap/costmap\"                                to=\"/robot3/move_base/global_costmap/costmap\" />\n",
    "    <remap from=\"/move_base/global_costmap/costmap_updates\"                        to=\"/robot3/move_base/global_costmap/costmap_updates\" />\n",
    "    <remap from=\"/move_base/local_costmap/costmap\"                                 to=\"/robot3/move_base/local_costmap/costmap\" />\n",
    "    <remap from=\"/move_base/local_costmap/costmap_updates\"                         to=\"/robot3/move_base/local_costmap/costmap_updates\" />\n",
    "    <remap from=\"/move_base/local_costmap/footprint\"                               to=\"/robot3/move_base/local_costmap/footprint\" />\n",
    "\n",
    "    <remap from=\"/move_base/GlobalPlanner/parameter_descriptions\"                  to=\"/robot3/move_base/GlobalPlanner/parameter_descriptions\" />\n",
    "    <remap from=\"/move_base/GlobalPlanner/parameter_updates\"                       to=\"/robot3/move_base/GlobalPlanner/parameter_updates\" />\n",
    "    <remap from=\"/move_base/GlobalPlanner/plan\"                                    to=\"/robot3/move_base/GlobalPlanner/plan\" />\n",
    "    <remap from=\"/move_base/GlobalPlanner/potential\"                               to=\"/robot3/move_base/GlobalPlanner/potential\" />\n",
    "    <remap from=\"/move_base/TebLocalPlannerROS/obstacles\"                          to=\"/robot3/move_base/TebLocalPlannerROS/obstacles\" />\n",
    "    <remap from=\"/move_base/TebLocalPlannerROS/parameter_descriptions\"             to=\"/robot3/move_base/TebLocalPlannerROS/parameter_descriptions\" />\n",
    "    <remap from=\"/move_base/TebLocalPlannerROS/parameter_updates\"                  to=\"/robot3/move_base/TebLocalPlannerROS/parameter_updates\" />\n",
    "    <remap from=\"/move_base/cancel\"                                                to=\"/robot3/move_base/cancel\" />\n",
    "    <remap from=\"/move_base/current_goal\"                                          to=\"/robot3/move_base/current_goal\" />\n",
    "    <remap from=\"/move_base/feedback\"                                              to=\"/robot3/move_base/feedback\" />\n",
    "    <remap from=\"/move_base/global_costmap/footprint\"                              to=\"/robot3/move_base/global_costmap/footprint\" />\n",
    "    <remap from=\"/move_base/global_costmap/inflation_layer/parameter_descriptions\" to=\"/robot3/move_base/global_costmap/inflation_layer/parameter_descriptions\" />\n",
    "    <remap from=\"/move_base/global_costmap/inflation_layer/parameter_updates\"      to=\"/robot3/move_base/global_costmap/inflation_layer/parameter_updates\" />\n",
    "    <remap from=\"/move_base/global_costmap/obstacle_layer/clearing_endpoints\"      to=\"/robot3/move_base/global_costmap/obstacle_layer/clearing_endpoints\" />\n",
    "    <remap from=\"/move_base/global_costmap/obstacle_layer/parameter_descriptions\"  to=\"/robot3/move_base/global_costmap/obstacle_layer/parameter_descriptions\" />\n",
    "    <remap from=\"/move_base/global_costmap/obstacle_layer/parameter_updates\"       to=\"/robot3/move_base/global_costmap/obstacle_layer/parameter_updates\" />\n",
    "    <remap from=\"/move_base/global_costmap/parameter_descriptions\"                 to=\"/robot3/move_base/global_costmap/parameter_descriptions\" />\n",
    "    <remap from=\"/move_base/global_costmap/parameter_updates\"                      to=\"/robot3/move_base/global_costmap/parameter_updates\" />\n",
    "    <remap from=\"/move_base/global_costmap/static_layer/parameter_descriptions\"    to=\"/robot3/move_base/global_costmap/static_layer/parameter_descriptions\" />\n",
    "    <remap from=\"/move_base/global_costmap/static_layer/parameter_updates\"         to=\"/robot3/move_base/global_costmap/static_layer/parameter_updates\" />\n",
    "    <remap from=\"/move_base/goal\"                                                  to=\"/robot3/move_base/goal\" />\n",
    "    <remap from=\"/move_base/local_costmap/obstacle_layer/parameter_descriptions\"   to=\"/robot3/move_base/local_costmap/obstacle_layer/parameter_descriptions\" />\n",
    "    <remap from=\"/move_base/local_costmap/obstacle_layer/parameter_updates\"        to=\"/robot3/move_base/local_costmap/obstacle_layer/parameter_updates\" />\n",
    "    <remap from=\"/move_base/local_costmap/parameter_descriptions\"                  to=\"/robot3/move_base/local_costmap/parameter_descriptions\" />\n",
    "    <remap from=\"/move_base/local_costmap/parameter_updates\"                       to=\"/robot3/move_base/local_costmap/parameter_updates\" />\n",
    "    <remap from=\"/move_base/local_costmap/static_layer/parameter_descriptions\"     to=\"/robot3/move_base/local_costmap/static_layer/parameter_descriptions\" />\n",
    "    <remap from=\"/move_base/local_costmap/static_layer/parameter_updates\"          to=\"/robot3/move_base/local_costmap/static_layer/parameter_updates\" />\n",
    "    <remap from=\"/move_base/parameter_descriptions\"                                to=\"/robot3/move_base/parameter_descriptions\" />\n",
    "    <remap from=\"/move_base/parameter_updates\"                                     to=\"/robot3/move_base/parameter_updates\" />\n",
    "    <remap from=\"/move_base/result\"                                                to=\"/robot3/move_base/result\" />\n",
    "    <remap from=\"/move_base/status\"                                                to=\"/robot3/move_base/status\" />\n",
    "    <remap from=\"/move_base_simple/goal\"                                           to=\"/robot3/move_base_simple/goal\" />\n",
    "  </node>\n",
    "\n",
    "\n",
    "</launch>"
   ]
  },
  {
   "cell_type": "markdown",
   "metadata": {},
   "source": [
    "Then as you did before you have to modify **navigation.launch** adding these files into it. You'll have something like the following."
   ]
  },
  {
   "cell_type": "code",
   "execution_count": null,
   "metadata": {
    "collapsed": true
   },
   "outputs": [],
   "source": [
    "<launch>\n",
    "  <param name=\"/use_sim_time\" value=\"true\"/>\n",
    "\n",
    "  <!-- Run the map server -->\n",
    "  <node name=\"map_server\" pkg=\"map_server\" type=\"map_server\" args=\"$(find my_mapping_launcher)/config/my_map.yaml\" >\n",
    "    <param name=\"frame_id\" value=\"/map\" />\n",
    "  </node>\n",
    "\n",
    "\n",
    "\n",
    " <!-- Properties of each robot      -->\n",
    "\n",
    "  <!-- AMCL      -->\n",
    "\n",
    "    <include file=\"$(find multiple_turtlebots_nav)/launch/amcl_robot1.launch\" />\n",
    "    <include file=\"$(find multiple_turtlebots_nav)/launch/amcl_robot2.launch\" />\n",
    "    <include file=\"$(find multiple_turtlebots_nav)/launch/amcl_robot3.launch\" />\n",
    "\n",
    "<!-- MOVE_BASE-->\n",
    "\n",
    "    <include file=\"$(find multiple_turtlebots_nav)/launch/move_base_1.launch\" />\n",
    "    <include file=\"$(find multiple_turtlebots_nav)/launch/move_base_2.launch\" />\n",
    "    <include file=\"$(find multiple_turtlebots_nav)/launch/move_base_3.launch\" />\n",
    "\n",
    "<!-- Launching Rviz      -->\n",
    "\n",
    "  <node name=\"rviz\" pkg=\"rviz\" type=\"rviz\" args=\"-d $(find my_mapping_launcher)/rviz/navigation.rviz\" />\n",
    "\n",
    "</launch>"
   ]
  },
  {
   "cell_type": "markdown",
   "metadata": {},
   "source": [
    "Let's see how it works. launch the **navigation.launch** and see it "
   ]
  },
  {
   "cell_type": "markdown",
   "metadata": {},
   "source": [
    "How you see it's similar to the rviz that you had running just the amcl, but click with the right buttom on *2D Nav Goal* at the top and select the properties"
   ]
  },
  {
   "cell_type": "markdown",
   "metadata": {},
   "source": [
    "<img src=\"images/tool_properties.png\">"
   ]
  },
  {
   "cell_type": "markdown",
   "metadata": {},
   "source": [
    "Here you can select wich robot you want to do the navigation, for example to make the robot2 move change the properties like this."
   ]
  },
  {
   "cell_type": "markdown",
   "metadata": {},
   "source": [
    "<img src=\"images/robot2_goal.png\">"
   ]
  },
  {
   "cell_type": "markdown",
   "metadata": {},
   "source": [
    "Just type */robot2/* before the topic of */move_base...* in the 2D Nav Goal section"
   ]
  },
  {
   "cell_type": "markdown",
   "metadata": {},
   "source": [
    "And the robot2 will start planning and moving, you can change while the robot2 is running and navigate another robot or why not, all of them at the same time. To make the navigation click on 2D Nav Goal and click in the part of the map to select the point and the direction of the goal. You should have something similar to the next."
   ]
  },
  {
   "cell_type": "markdown",
   "metadata": {},
   "source": [
    "<img src=\"images/nav_goal1.png\">"
   ]
  },
  {
   "cell_type": "markdown",
   "metadata": {},
   "source": [
    "# Mission completed!!"
   ]
  },
  {
   "cell_type": "markdown",
   "metadata": {},
   "source": [
    "## In case you want to become a ROS Developer like us..."
   ]
  },
  {
   "cell_type": "markdown",
   "metadata": {},
   "source": [
    "Go to our online ROS academy. There is no faster way and funnier to learn ROS because we use the same method we did here. \n",
    "\n",
    "### We call the 30/70 method\n",
    "\n",
    "* **30% of the time learning theory**\n",
    "* **70% of the time practicing with simulated robots**"
   ]
  },
  {
   "cell_type": "markdown",
   "metadata": {},
   "source": [
    "### Check it out at http://robotignite.academy"
   ]
  },
  {
   "cell_type": "markdown",
   "metadata": {},
   "source": [
    "<img src=\"images/logos/RIAlogo.png\" width=\"350\">"
   ]
  },
  {
   "cell_type": "markdown",
   "metadata": {},
   "source": [
    "### Want to wear the ROS Developers T-Shirt?"
   ]
  },
  {
   "cell_type": "markdown",
   "metadata": {},
   "source": [
    "Wear the t-shirt that identifies you as a ROS Developer, <a href=\"https://teespring.com/es/wear-i-m-a-ros-developer\">check all the models and colors in this link</a>."
   ]
  },
  {
   "cell_type": "markdown",
   "metadata": {},
   "source": [
    "<img src=\"images/logos/merchandise.png\">"
   ]
  },
  {
   "cell_type": "markdown",
   "metadata": {},
   "source": [
    "# KEEP PUSHING YOUR ROS LEARNING WITH PATIENCE AND GOOD HUMOUR!"
   ]
  }
 ],
 "metadata": {
  "kernelspec": {
   "display_name": "Python 3",
   "language": "python",
   "name": "python3"
  },
  "language_info": {
   "codemirror_mode": {
    "name": "ipython",
    "version": 3
   },
   "file_extension": ".py",
   "mimetype": "text/x-python",
   "name": "python",
   "nbconvert_exporter": "python",
   "pygments_lexer": "ipython3",
   "version": "3.7.3"
  }
 },
 "nbformat": 4,
 "nbformat_minor": 1
}
